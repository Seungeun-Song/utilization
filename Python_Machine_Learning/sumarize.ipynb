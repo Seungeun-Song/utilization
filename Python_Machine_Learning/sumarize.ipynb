{
  "nbformat": 4,
  "nbformat_minor": 0,
  "metadata": {
    "colab": {
      "name": "sumarize.ipynb",
      "provenance": [],
      "collapsed_sections": [],
      "toc_visible": true
    },
    "kernelspec": {
      "name": "python3",
      "display_name": "Python 3"
    }
  },
  "cells": [
    {
      "cell_type": "markdown",
      "metadata": {
        "id": "umoFvFiIlfeS"
      },
      "source": [
        "# 시각화"
      ]
    },
    {
      "cell_type": "markdown",
      "metadata": {
        "id": "gvf9UXtjn_iO"
      },
      "source": [
        "## - pairplot"
      ]
    },
    {
      "cell_type": "code",
      "metadata": {
        "id": "9gk5NWLJleKe"
      },
      "source": [
        "sns.pairplot(DF)\r\n",
        "plt.show()"
      ],
      "execution_count": null,
      "outputs": []
    },
    {
      "cell_type": "markdown",
      "metadata": {
        "id": "G3itV5rdn45O"
      },
      "source": [
        "## - regplot"
      ]
    },
    {
      "cell_type": "code",
      "metadata": {
        "id": "AcNaD1ann76t"
      },
      "source": [
        "sns.regplot(x='area', y='price', data=DF, line_kws={'color':'orange'},\r\n",
        "            scatter_kws={'color':'gray','edgecolor':'white'})\r\n",
        "plt.show()"
      ],
      "execution_count": null,
      "outputs": []
    },
    {
      "cell_type": "markdown",
      "metadata": {
        "id": "91VzSPuNoFcN"
      },
      "source": [
        "## - distplot"
      ]
    },
    {
      "cell_type": "code",
      "metadata": {
        "id": "qABSqdDUoG3V"
      },
      "source": [
        "# 다중 그래프 시각화\r\n",
        "plt.figure(figsize=(9,6))\r\n",
        "ax1 = sns.distplot(y_test, hist =False, label='y_test')\r\n",
        "ax2 = sns.distplot(y_hat1, hist =False, label='y_hat', ax=ax1)\r\n",
        "ax3 = sns.distplot(y_hat2, hist =False, label='y_hat', ax=ax1)\r\n",
        "ax4 = sns.distplot(y_hat3, hist =False, label='y_hat', ax=ax1)\r\n",
        "plt.ylim(0,0.07)\r\n",
        "plt.show()"
      ],
      "execution_count": null,
      "outputs": []
    },
    {
      "cell_type": "markdown",
      "metadata": {
        "id": "bSQiS2lKoVT9"
      },
      "source": [
        "## -scatter"
      ]
    },
    {
      "cell_type": "code",
      "metadata": {
        "id": "MS4lnb17oXsN"
      },
      "source": [
        "plt.figure(figsize =(9,6))\r\n",
        "plt.scatter(x=DF1.weight, y=DF1.mpg, s=30)\r\n",
        "plt.show()"
      ],
      "execution_count": null,
      "outputs": []
    },
    {
      "cell_type": "markdown",
      "metadata": {
        "id": "iYzzsKQZoeLk"
      },
      "source": [
        "## - plot"
      ]
    },
    {
      "cell_type": "code",
      "metadata": {
        "id": "hP7mi71lofHM"
      },
      "source": [
        "plt.figure(figsize=(9,6))\r\n",
        "plt.plot(x_train, y_train, 'o', label='Train Data')\r\n",
        "plt.plot(x_test, y_hat_test, 'r+', label='Predicted Value')\r\n",
        "plt.legend(loc='best')\r\n",
        "plt.xlabel('weight')\r\n",
        "plt.ylabel('mpg')\r\n",
        "plt.show()"
      ],
      "execution_count": null,
      "outputs": []
    },
    {
      "cell_type": "markdown",
      "metadata": {
        "id": "I4bRQ65Co5UF"
      },
      "source": [
        "## - boxplot"
      ]
    },
    {
      "cell_type": "code",
      "metadata": {
        "id": "pvlxT82No6tl"
      },
      "source": [
        "plt.figure(figsize = (9, 6))\r\n",
        "sns.boxplot(x='bedrooms', y='price', data = DF)\r\n",
        "plt.show()"
      ],
      "execution_count": null,
      "outputs": []
    },
    {
      "cell_type": "code",
      "metadata": {
        "id": "fbN5_b3Qt7Qe"
      },
      "source": [
        "# boxplot은 비율!!"
      ],
      "execution_count": null,
      "outputs": []
    },
    {
      "cell_type": "code",
      "metadata": {
        "id": "I1DIwtDht7Mr"
      },
      "source": [
        ""
      ],
      "execution_count": null,
      "outputs": []
    },
    {
      "cell_type": "markdown",
      "metadata": {
        "id": "4jzQRkRrt7ar"
      },
      "source": [
        "# 상관계수 - Pearson's r/ corrcoef"
      ]
    },
    {
      "cell_type": "markdown",
      "metadata": {
        "id": "zsCFr_Trr7xz"
      },
      "source": [
        "⦁ 상관 계수 - 연속형 또는 순위 자료로 이루어진 두 변수간 상호 관계만을 알아보고자 할 때 사용\r\n",
        "\r\n",
        "⦁ 회귀분석법 - 두 변수간 인과 관계와 같이 한 변수가 다른 변수에 주는 영향력을 알아보고자 할 때 사용"
      ]
    },
    {
      "cell_type": "code",
      "metadata": {
        "id": "Z9r2u85VuVya"
      },
      "source": [
        "from scipy import stats\r\n",
        "\r\n",
        "stats.pearsonr(DF1.mpg, DF1.weight)[0]"
      ],
      "execution_count": null,
      "outputs": []
    },
    {
      "cell_type": "code",
      "metadata": {
        "id": "ukBWz_oat_BS"
      },
      "source": [
        "import numpy as np\r\n",
        "\r\n",
        "print(np.corrcoef(DF1.mpg, DF1.weight))"
      ],
      "execution_count": null,
      "outputs": []
    },
    {
      "cell_type": "markdown",
      "metadata": {
        "id": "9vOdk1IRlUJb"
      },
      "source": [
        "# 결정계수 - R square"
      ]
    },
    {
      "cell_type": "markdown",
      "metadata": {
        "id": "PNNg4uorsQDi"
      },
      "source": [
        "⦁ 보통 상관 계수를 제곱<p>\r\n",
        "⦁ But, 상관계수와는 달리 <U>변수간 영향을 주는 정도</U> 또는 <U>인과 관계의 정도를 정량화</U> 해서 나타낸 수치\r\n",
        "<p>⦁ 따라서 상관관계 분석이 아닌 **<U>회귀 분석에서 사용하는 수치</U>**\r\n",
        "\r\n",
        "<p> ⦁ 결정 계수는 회귀 분석의 종류(선형회귀분석, 비선형 회귀분석) 등에 따라 상관 계수의 제곱이 아닌 경우도 존재"
      ]
    },
    {
      "cell_type": "code",
      "metadata": {
        "id": "6TJ7uJQ8lXZN"
      },
      "source": [
        "Model1.score(x_test, y_test)"
      ],
      "execution_count": null,
      "outputs": []
    },
    {
      "cell_type": "markdown",
      "metadata": {
        "id": "ItBhgCe0hq8e"
      },
      "source": [
        "# Modeling - statsmodels Package"
      ]
    },
    {
      "cell_type": "code",
      "metadata": {
        "id": "87-sTsbzhve4"
      },
      "source": [
        "from sklearn.model_selection import train_test_split\r\n",
        "\r\n",
        "train_set, test_set = train_test_split(DF, test_size=0.3, random_state=2045)\r\n",
        "train_set.shape, test_set.shape\r\n",
        "\r\n",
        "import statsmodels.formula.api as smf\r\n",
        "\r\n",
        "Model_1 =smf.ols(formula = 'expenses ~ age + sex',\r\n",
        "                 data = train_set).fit()"
      ],
      "execution_count": null,
      "outputs": []
    },
    {
      "cell_type": "markdown",
      "metadata": {
        "id": "u3gRPAw2h7QP"
      },
      "source": [
        "# MSE"
      ]
    },
    {
      "cell_type": "markdown",
      "metadata": {
        "id": "42--CJdph8iW"
      },
      "source": [
        "## np.sqrt(MSE)"
      ]
    },
    {
      "cell_type": "markdown",
      "metadata": {
        "id": "T49iT099iD5H"
      },
      "source": [
        "# Encoding"
      ]
    },
    {
      "cell_type": "code",
      "metadata": {
        "id": "xDSFBz7hlOO5"
      },
      "source": [
        "from sklearn.preprocessing import LabelEncoder\r\n",
        "\r\n",
        "encoder1 = LabelEncoder()\r\n",
        "DF['sex'] = encoder1.fit_transform(DF.sex)"
      ],
      "execution_count": null,
      "outputs": []
    },
    {
      "cell_type": "markdown",
      "metadata": {
        "id": "dgh7zbBVqQs6"
      },
      "source": [
        "# Scaling"
      ]
    },
    {
      "cell_type": "markdown",
      "metadata": {
        "id": "qYfaLs_BqSrl"
      },
      "source": [
        "## 1) with Normalization(정규화) - 0 ~ 1사이로 맞출 때"
      ]
    },
    {
      "cell_type": "code",
      "metadata": {
        "id": "3MYo7MZgqpJQ"
      },
      "source": [
        "from sklearn.preprocessing import MinMaxScaler\r\n",
        "\r\n",
        "scaler1 = MinMaxScaler()\r\n",
        "X_Norm = scaler1.fit_transform(X)"
      ],
      "execution_count": null,
      "outputs": []
    },
    {
      "cell_type": "markdown",
      "metadata": {
        "id": "v9h1iqshqspu"
      },
      "source": [
        "## 2) with Standardization(표준화) - 0을 기준으로 정규분포"
      ]
    },
    {
      "cell_type": "code",
      "metadata": {
        "id": "_qbs4Z0hqu0U"
      },
      "source": [
        "from sklearn.preprocessing import StandardScaler\r\n",
        "\r\n",
        "scaler2 = StandardScaler()\r\n",
        "X_Stan = scaler2.fit_transform(X)"
      ],
      "execution_count": null,
      "outputs": []
    },
    {
      "cell_type": "markdown",
      "metadata": {
        "id": "igCsjPBbow68"
      },
      "source": [
        "# Logistic Regression"
      ]
    },
    {
      "cell_type": "markdown",
      "metadata": {
        "id": "E94gCg0Dq-vr"
      },
      "source": [
        "## Logistic Regression 모델 생성시 - <p> from sklearn.linear_model import LogisticRegression"
      ]
    },
    {
      "cell_type": "code",
      "metadata": {
        "id": "jUswcENntWbk"
      },
      "source": [
        "from sklearn.linear_model import LogisticRegression\r\n",
        "\r\n",
        "# x값에는 문자열이 안들어가는데 y의 값에는 문자열이 들어감\r\n",
        "# 0~ 1값을 0.5를 기준으로 yes or no로 만드는 모델\r\n",
        "\r\n",
        "Model_lr = LogisticRegression()\r\n",
        "Model_lr.fit(X_train, y_train)"
      ],
      "execution_count": null,
      "outputs": []
    },
    {
      "cell_type": "markdown",
      "metadata": {
        "id": "lmErsYtwo7fK"
      },
      "source": [
        "## 1) Confusion Matrixs (분류모델의 validation) \r\n",
        "오차행렬형태로 Positive vs. Negative"
      ]
    },
    {
      "cell_type": "code",
      "metadata": {
        "colab": {
          "base_uri": "https://localhost:8080/"
        },
        "id": "lrSQOm2zkeO2",
        "outputId": "fb13b46a-e54b-40a1-b784-6363672d14d0"
      },
      "source": [
        "# 'No(상환)'기준 \r\n",
        "\r\n",
        "from sklearn.metrics import confusion_matrix\r\n",
        "confusion_matrix(y_test, y_hat)"
      ],
      "execution_count": null,
      "outputs": [
        {
          "output_type": "execute_result",
          "data": {
            "text/plain": [
              "array([[2889,    7],\n",
              "       [  72,   32]])"
            ]
          },
          "metadata": {
            "tags": []
          },
          "execution_count": 12
        }
      ]
    },
    {
      "cell_type": "code",
      "metadata": {
        "colab": {
          "base_uri": "https://localhost:8080/"
        },
        "id": "SILuuZ77krQW",
        "outputId": "6a91b005-c829-42d1-92c5-342b065b562d"
      },
      "source": [
        "'Yes(연체)'기준\r\n",
        "\r\n",
        "from sklearn.metrics import confusion_matrix\r\n",
        "\r\n",
        "confusion_matrix(y_test, y_hat, labels=['Yes','No'])"
      ],
      "execution_count": null,
      "outputs": [
        {
          "output_type": "execute_result",
          "data": {
            "text/plain": [
              "array([[  32,   72],\n",
              "       [   7, 2889]])"
            ]
          },
          "metadata": {
            "tags": []
          },
          "execution_count": 15
        }
      ]
    },
    {
      "cell_type": "markdown",
      "metadata": {
        "id": "F34LxsKBpT60"
      },
      "source": [
        "### 1) Accuracy, Precision, Recall - 'No(상환)' vs 'Yes(연체)'"
      ]
    },
    {
      "cell_type": "code",
      "metadata": {
        "colab": {
          "base_uri": "https://localhost:8080/"
        },
        "id": "BZhTt1bdlCBv",
        "outputId": "35b942b5-fc9c-424a-c4a2-582db4c1562a"
      },
      "source": [
        "# 'No(상환)'\r\n",
        "\r\n",
        "from sklearn.metrics import accuracy_score, precision_score, recall_score\r\n",
        "\r\n",
        "print(accuracy_score(y_test, y_hat))\r\n",
        "print(precision_score(y_test, y_hat, pos_label ='No'))\r\n",
        "print(recall_score(y_test, y_hat, pos_label='No'))"
      ],
      "execution_count": null,
      "outputs": [
        {
          "output_type": "stream",
          "text": [
            "0.9736666666666667\n",
            "0.9756838905775076\n",
            "0.9975828729281768\n"
          ],
          "name": "stdout"
        }
      ]
    },
    {
      "cell_type": "code",
      "metadata": {
        "colab": {
          "base_uri": "https://localhost:8080/"
        },
        "id": "H3ALx0O4lzGE",
        "outputId": "2044c793-1488-4cc4-ee62-df3cdb54aa25"
      },
      "source": [
        "# 'Yes(연체)'\r\n",
        "\r\n",
        "from sklearn.metrics import accuracy_score, precision_score, recall_score\r\n",
        "\r\n",
        "print(accuracy_score(y_test, y_hat))\r\n",
        "print(precision_score(y_test, y_hat, pos_label = 'Yes'))\r\n",
        "print(recall_score(y_test, y_hat, pos_label = 'Yes'))"
      ],
      "execution_count": null,
      "outputs": [
        {
          "output_type": "stream",
          "text": [
            "0.9736666666666667\n",
            "0.8205128205128205\n",
            "0.3076923076923077\n"
          ],
          "name": "stdout"
        }
      ]
    },
    {
      "cell_type": "markdown",
      "metadata": {
        "id": "reisPhBppsUj"
      },
      "source": [
        "### 2) F1_Score - 'No(상환)' vs. 'Yes(연체)' <p>: F1_score? precision과 recall과의 조화평균"
      ]
    },
    {
      "cell_type": "code",
      "metadata": {
        "colab": {
          "base_uri": "https://localhost:8080/"
        },
        "id": "VkIRZPwImQ37",
        "outputId": "7cfdd663-de5b-48cf-b9d7-c5e5d669aa90"
      },
      "source": [
        "# 'No(상환)' \r\n",
        "from sklearn.metrics import f1_score\r\n",
        "\r\n",
        "f1_score(y_test, y_hat, pos_label='No')"
      ],
      "execution_count": null,
      "outputs": [
        {
          "output_type": "execute_result",
          "data": {
            "text/plain": [
              "0.9865118661430767"
            ]
          },
          "metadata": {
            "tags": []
          },
          "execution_count": 18
        }
      ]
    },
    {
      "cell_type": "code",
      "metadata": {
        "colab": {
          "base_uri": "https://localhost:8080/"
        },
        "id": "aGxXnfyWmk6k",
        "outputId": "0afcafff-b132-4d49-ebf0-ec9b285afa6d"
      },
      "source": [
        "# 'Yes(연체)'\r\n",
        "\r\n",
        "from sklearn.metrics import f1_score\r\n",
        "\r\n",
        "f1_score(y_test, y_hat, pos_label = 'Yes')"
      ],
      "execution_count": null,
      "outputs": [
        {
          "output_type": "execute_result",
          "data": {
            "text/plain": [
              "0.44755244755244755"
            ]
          },
          "metadata": {
            "tags": []
          },
          "execution_count": 19
        }
      ]
    },
    {
      "cell_type": "markdown",
      "metadata": {
        "id": "W2VQmIkrp5tC"
      },
      "source": [
        "###  3) Classification Report"
      ]
    },
    {
      "cell_type": "code",
      "metadata": {
        "colab": {
          "base_uri": "https://localhost:8080/"
        },
        "id": "VENEfzyKnAxK",
        "outputId": "53d8e3a6-ef7b-41d5-aae0-133ec36fe200"
      },
      "source": [
        "from sklearn.metrics import classification_report\r\n",
        "\r\n",
        "print(classification_report(y_test, y_hat,\r\n",
        "                            target_names = ['No','Yes'],\r\n",
        "                            digits = 5))"
      ],
      "execution_count": null,
      "outputs": [
        {
          "output_type": "stream",
          "text": [
            "              precision    recall  f1-score   support\n",
            "\n",
            "          No    0.97568   0.99758   0.98651      2896\n",
            "         Yes    0.82051   0.30769   0.44755       104\n",
            "\n",
            "    accuracy                        0.97367      3000\n",
            "   macro avg    0.89810   0.65264   0.71703      3000\n",
            "weighted avg    0.97030   0.97367   0.96783      3000\n",
            "\n"
          ],
          "name": "stdout"
        }
      ]
    }
  ]
}